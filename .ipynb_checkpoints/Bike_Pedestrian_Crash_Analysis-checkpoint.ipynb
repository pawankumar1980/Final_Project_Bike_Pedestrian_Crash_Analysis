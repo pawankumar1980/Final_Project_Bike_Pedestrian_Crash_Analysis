{
 "cells": [
  {
   "cell_type": "code",
   "execution_count": 1,
   "id": "63878582",
   "metadata": {},
   "outputs": [],
   "source": [
    "import numpy as np\n",
    "import pandas as pd\n",
    "import matplotlib.pyplot as plt\n",
    "plt.style.use('dark_background')\n",
    "%matplotlib inline\n",
    "import datetime\n",
    "#scipy\n",
    "import scipy.stats as stats\n",
    "from scipy import stats\n",
    "from scipy.stats import chi2_contingency\n"
   ]
  },
  {
   "cell_type": "code",
   "execution_count": 3,
   "id": "b3edfa10",
   "metadata": {},
   "outputs": [
    {
     "data": {
      "text/html": [
       "<div>\n",
       "<style scoped>\n",
       "    .dataframe tbody tr th:only-of-type {\n",
       "        vertical-align: middle;\n",
       "    }\n",
       "\n",
       "    .dataframe tbody tr th {\n",
       "        vertical-align: top;\n",
       "    }\n",
       "\n",
       "    .dataframe thead th {\n",
       "        text-align: right;\n",
       "    }\n",
       "</style>\n",
       "<table border=\"1\" class=\"dataframe\">\n",
       "  <thead>\n",
       "    <tr style=\"text-align: right;\">\n",
       "      <th></th>\n",
       "      <th>X</th>\n",
       "      <th>Y</th>\n",
       "      <th>OBJECTID_1</th>\n",
       "      <th>AmbulanceR</th>\n",
       "      <th>BikeAge</th>\n",
       "      <th>BikeAgeGrp</th>\n",
       "      <th>BikeAlcDrg</th>\n",
       "      <th>BikeAlcFlg</th>\n",
       "      <th>BikeDir</th>\n",
       "      <th>BikeInjury</th>\n",
       "      <th>...</th>\n",
       "      <th>RdDefects</th>\n",
       "      <th>RdFeature</th>\n",
       "      <th>RdSurface</th>\n",
       "      <th>Region</th>\n",
       "      <th>RuralUrban</th>\n",
       "      <th>SpeedLimit</th>\n",
       "      <th>TraffCntrl</th>\n",
       "      <th>Weather</th>\n",
       "      <th>Workzone</th>\n",
       "      <th>OBJECTID</th>\n",
       "    </tr>\n",
       "  </thead>\n",
       "  <tbody>\n",
       "    <tr>\n",
       "      <th>0</th>\n",
       "      <td>-78.883896</td>\n",
       "      <td>36.039490</td>\n",
       "      <td>1</td>\n",
       "      <td>Yes</td>\n",
       "      <td>11</td>\n",
       "      <td>Nov-15</td>\n",
       "      <td>.</td>\n",
       "      <td>No</td>\n",
       "      <td>With Traffic</td>\n",
       "      <td>B: Suspected Minor Injury</td>\n",
       "      <td>...</td>\n",
       "      <td>None</td>\n",
       "      <td>No Special Feature</td>\n",
       "      <td>Smooth Asphalt</td>\n",
       "      <td>Piedmont</td>\n",
       "      <td>Urban</td>\n",
       "      <td>30 - 35  MPH</td>\n",
       "      <td>No Control Present</td>\n",
       "      <td>Clear</td>\n",
       "      <td>No</td>\n",
       "      <td>1</td>\n",
       "    </tr>\n",
       "    <tr>\n",
       "      <th>1</th>\n",
       "      <td>-78.782800</td>\n",
       "      <td>35.751118</td>\n",
       "      <td>2</td>\n",
       "      <td>Yes</td>\n",
       "      <td>20</td>\n",
       "      <td>20-24</td>\n",
       "      <td>.</td>\n",
       "      <td>No</td>\n",
       "      <td>Facing Traffic</td>\n",
       "      <td>C: Possible Injury</td>\n",
       "      <td>...</td>\n",
       "      <td>None</td>\n",
       "      <td>Four-Way Intersection</td>\n",
       "      <td>Smooth Asphalt</td>\n",
       "      <td>Piedmont</td>\n",
       "      <td>Urban</td>\n",
       "      <td>30 - 35  MPH</td>\n",
       "      <td>Stop And Go Signal</td>\n",
       "      <td>Clear</td>\n",
       "      <td>No</td>\n",
       "      <td>2</td>\n",
       "    </tr>\n",
       "    <tr>\n",
       "      <th>2</th>\n",
       "      <td>-80.697820</td>\n",
       "      <td>35.084732</td>\n",
       "      <td>3</td>\n",
       "      <td>Yes</td>\n",
       "      <td>37</td>\n",
       "      <td>30-39</td>\n",
       "      <td>.</td>\n",
       "      <td>No</td>\n",
       "      <td>Unknown</td>\n",
       "      <td>B: Suspected Minor Injury</td>\n",
       "      <td>...</td>\n",
       "      <td>None</td>\n",
       "      <td>No Special Feature</td>\n",
       "      <td>Smooth Asphalt</td>\n",
       "      <td>Piedmont</td>\n",
       "      <td>Urban</td>\n",
       "      <td>20 - 25  MPH</td>\n",
       "      <td>No Control Present</td>\n",
       "      <td>Cloudy</td>\n",
       "      <td>No</td>\n",
       "      <td>3</td>\n",
       "    </tr>\n",
       "    <tr>\n",
       "      <th>3</th>\n",
       "      <td>-80.479320</td>\n",
       "      <td>35.684400</td>\n",
       "      <td>4</td>\n",
       "      <td>Yes</td>\n",
       "      <td>30</td>\n",
       "      <td>30-39</td>\n",
       "      <td>.</td>\n",
       "      <td>No</td>\n",
       "      <td>With Traffic</td>\n",
       "      <td>C: Possible Injury</td>\n",
       "      <td>...</td>\n",
       "      <td>None</td>\n",
       "      <td>Four-Way Intersection</td>\n",
       "      <td>Smooth Asphalt</td>\n",
       "      <td>Piedmont</td>\n",
       "      <td>Urban</td>\n",
       "      <td>30 - 35  MPH</td>\n",
       "      <td>No Control Present</td>\n",
       "      <td>Cloudy</td>\n",
       "      <td>No</td>\n",
       "      <td>4</td>\n",
       "    </tr>\n",
       "    <tr>\n",
       "      <th>4</th>\n",
       "      <td>-78.904450</td>\n",
       "      <td>34.999428</td>\n",
       "      <td>5</td>\n",
       "      <td>Yes</td>\n",
       "      <td>45</td>\n",
       "      <td>40-49</td>\n",
       "      <td>.</td>\n",
       "      <td>No</td>\n",
       "      <td>With Traffic</td>\n",
       "      <td>B: Suspected Minor Injury</td>\n",
       "      <td>...</td>\n",
       "      <td>None</td>\n",
       "      <td>No Special Feature</td>\n",
       "      <td>Coarse Asphalt</td>\n",
       "      <td>Coastal</td>\n",
       "      <td>Urban</td>\n",
       "      <td>30 - 35  MPH</td>\n",
       "      <td>Double Yellow Line, No Passing Zone</td>\n",
       "      <td>Clear</td>\n",
       "      <td>No</td>\n",
       "      <td>5</td>\n",
       "    </tr>\n",
       "  </tbody>\n",
       "</table>\n",
       "<p>5 rows × 62 columns</p>\n",
       "</div>"
      ],
      "text/plain": [
       "           X          Y  OBJECTID_1 AmbulanceR BikeAge BikeAgeGrp BikeAlcDrg  \\\n",
       "0 -78.883896  36.039490           1        Yes      11     Nov-15          .   \n",
       "1 -78.782800  35.751118           2        Yes      20      20-24          .   \n",
       "2 -80.697820  35.084732           3        Yes      37      30-39          .   \n",
       "3 -80.479320  35.684400           4        Yes      30      30-39          .   \n",
       "4 -78.904450  34.999428           5        Yes      45      40-49          .   \n",
       "\n",
       "  BikeAlcFlg         BikeDir                 BikeInjury  ... RdDefects  \\\n",
       "0         No    With Traffic  B: Suspected Minor Injury  ...      None   \n",
       "1         No  Facing Traffic         C: Possible Injury  ...      None   \n",
       "2         No         Unknown  B: Suspected Minor Injury  ...      None   \n",
       "3         No    With Traffic         C: Possible Injury  ...      None   \n",
       "4         No    With Traffic  B: Suspected Minor Injury  ...      None   \n",
       "\n",
       "               RdFeature       RdSurface    Region RuralUrban    SpeedLimit  \\\n",
       "0     No Special Feature  Smooth Asphalt  Piedmont      Urban  30 - 35  MPH   \n",
       "1  Four-Way Intersection  Smooth Asphalt  Piedmont      Urban  30 - 35  MPH   \n",
       "2     No Special Feature  Smooth Asphalt  Piedmont      Urban  20 - 25  MPH   \n",
       "3  Four-Way Intersection  Smooth Asphalt  Piedmont      Urban  30 - 35  MPH   \n",
       "4     No Special Feature  Coarse Asphalt   Coastal      Urban  30 - 35  MPH   \n",
       "\n",
       "                            TraffCntrl Weather  Workzone  OBJECTID  \n",
       "0                   No Control Present   Clear        No         1  \n",
       "1                   Stop And Go Signal   Clear        No         2  \n",
       "2                   No Control Present  Cloudy        No         3  \n",
       "3                   No Control Present  Cloudy        No         4  \n",
       "4  Double Yellow Line, No Passing Zone   Clear        No         5  \n",
       "\n",
       "[5 rows x 62 columns]"
      ]
     },
     "execution_count": 3,
     "metadata": {},
     "output_type": "execute_result"
    }
   ],
   "source": [
    "bike_Pedestrain_crash_df = pd.read_csv('BikePedCrash.csv')\n",
    "bike_Pedestrain_crash_df.head()"
   ]
  },
  {
   "cell_type": "code",
   "execution_count": 4,
   "id": "460f9bfc",
   "metadata": {},
   "outputs": [
    {
     "name": "stdout",
     "output_type": "stream",
     "text": [
      "<class 'pandas.core.frame.DataFrame'>\n",
      "RangeIndex: 12173 entries, 0 to 12172\n",
      "Data columns (total 62 columns):\n",
      " #   Column      Non-Null Count  Dtype  \n",
      "---  ------      --------------  -----  \n",
      " 0   X           12173 non-null  float64\n",
      " 1   Y           12173 non-null  float64\n",
      " 2   OBJECTID_1  12173 non-null  int64  \n",
      " 3   AmbulanceR  12173 non-null  object \n",
      " 4   BikeAge     12173 non-null  object \n",
      " 5   BikeAgeGrp  12173 non-null  object \n",
      " 6   BikeAlcDrg  12173 non-null  object \n",
      " 7   BikeAlcFlg  12173 non-null  object \n",
      " 8   BikeDir     12173 non-null  object \n",
      " 9   BikeInjury  12173 non-null  object \n",
      " 10  BikePos     12173 non-null  object \n",
      " 11  BikeRace    12173 non-null  object \n",
      " 12  BikeSex     12173 non-null  object \n",
      " 13  City        12173 non-null  object \n",
      " 14  County      12173 non-null  object \n",
      " 15  CrashAlcoh  12173 non-null  object \n",
      " 16  CrashDay    12173 non-null  object \n",
      " 17  CrashGrp    12173 non-null  object \n",
      " 18  CrashHour   12173 non-null  int64  \n",
      " 19  CrashID     12173 non-null  int64  \n",
      " 20  CrashLoc    12173 non-null  object \n",
      " 21  CrashMonth  12173 non-null  object \n",
      " 22  CrashSevr   12173 non-null  object \n",
      " 23  CrashType   12173 non-null  object \n",
      " 24  CrashYear   12173 non-null  int64  \n",
      " 25  Developmen  12173 non-null  object \n",
      " 26  DrvrAge     12173 non-null  object \n",
      " 27  DrvrAgeGrp  12173 non-null  object \n",
      " 28  DrvrAlcDrg  12173 non-null  object \n",
      " 29  DrvrAlcFlg  12173 non-null  object \n",
      " 30  DrvrInjury  12173 non-null  object \n",
      " 31  DrvrRace    12173 non-null  object \n",
      " 32  DrvrSex     12173 non-null  object \n",
      " 33  DrvrVehTyp  12173 non-null  object \n",
      " 34  HitRun      12173 non-null  object \n",
      " 35  Latitude    12173 non-null  float64\n",
      " 36  LightCond   12173 non-null  object \n",
      " 37  Locality    12173 non-null  object \n",
      " 38  Longitude   12173 non-null  float64\n",
      " 39  NumBicsAin  12173 non-null  object \n",
      " 40  NumBicsBin  12173 non-null  object \n",
      " 41  NumBicsCin  12173 non-null  object \n",
      " 42  NumBicsKil  12173 non-null  object \n",
      " 43  NumBicsNoi  12173 non-null  object \n",
      " 44  NumBicsTot  12173 non-null  object \n",
      " 45  NumBicsUin  12173 non-null  object \n",
      " 46  NumLanes    12173 non-null  object \n",
      " 47  NumUnits    12173 non-null  int64  \n",
      " 48  RdCharacte  12173 non-null  object \n",
      " 49  RdClass     12173 non-null  object \n",
      " 50  RdConditio  12173 non-null  object \n",
      " 51  RdConfig    12173 non-null  object \n",
      " 52  RdDefects   12173 non-null  object \n",
      " 53  RdFeature   12173 non-null  object \n",
      " 54  RdSurface   12173 non-null  object \n",
      " 55  Region      12173 non-null  object \n",
      " 56  RuralUrban  12173 non-null  object \n",
      " 57  SpeedLimit  12173 non-null  object \n",
      " 58  TraffCntrl  12173 non-null  object \n",
      " 59  Weather     12173 non-null  object \n",
      " 60  Workzone    12173 non-null  object \n",
      " 61  OBJECTID    12173 non-null  int64  \n",
      "dtypes: float64(4), int64(6), object(52)\n",
      "memory usage: 5.8+ MB\n"
     ]
    }
   ],
   "source": [
    "bike_Pedestrain_crash_df.info()"
   ]
  },
  {
   "cell_type": "code",
   "execution_count": 5,
   "id": "abadc798",
   "metadata": {},
   "outputs": [
    {
     "data": {
      "text/plain": [
       "Index(['X', 'Y', 'OBJECTID_1', 'AmbulanceR', 'BikeAge', 'BikeAgeGrp',\n",
       "       'BikeAlcDrg', 'BikeAlcFlg', 'BikeDir', 'BikeInjury', 'BikePos',\n",
       "       'BikeRace', 'BikeSex', 'City', 'County', 'CrashAlcoh', 'CrashDay',\n",
       "       'CrashGrp', 'CrashHour', 'CrashID', 'CrashLoc', 'CrashMonth',\n",
       "       'CrashSevr', 'CrashType', 'CrashYear', 'Developmen', 'DrvrAge',\n",
       "       'DrvrAgeGrp', 'DrvrAlcDrg', 'DrvrAlcFlg', 'DrvrInjury', 'DrvrRace',\n",
       "       'DrvrSex', 'DrvrVehTyp', 'HitRun', 'Latitude', 'LightCond', 'Locality',\n",
       "       'Longitude', 'NumBicsAin', 'NumBicsBin', 'NumBicsCin', 'NumBicsKil',\n",
       "       'NumBicsNoi', 'NumBicsTot', 'NumBicsUin', 'NumLanes', 'NumUnits',\n",
       "       'RdCharacte', 'RdClass', 'RdConditio', 'RdConfig', 'RdDefects',\n",
       "       'RdFeature', 'RdSurface', 'Region', 'RuralUrban', 'SpeedLimit',\n",
       "       'TraffCntrl', 'Weather', 'Workzone', 'OBJECTID'],\n",
       "      dtype='object')"
      ]
     },
     "execution_count": 5,
     "metadata": {},
     "output_type": "execute_result"
    }
   ],
   "source": [
    "bike_Pedestrain_crash_df.columns"
   ]
  },
  {
   "cell_type": "code",
   "execution_count": 7,
   "id": "9bc3b8db",
   "metadata": {},
   "outputs": [
    {
     "data": {
      "text/html": [
       "<div>\n",
       "<style scoped>\n",
       "    .dataframe tbody tr th:only-of-type {\n",
       "        vertical-align: middle;\n",
       "    }\n",
       "\n",
       "    .dataframe tbody tr th {\n",
       "        vertical-align: top;\n",
       "    }\n",
       "\n",
       "    .dataframe thead th {\n",
       "        text-align: right;\n",
       "    }\n",
       "</style>\n",
       "<table border=\"1\" class=\"dataframe\">\n",
       "  <thead>\n",
       "    <tr style=\"text-align: right;\">\n",
       "      <th></th>\n",
       "      <th>X</th>\n",
       "      <th>Y</th>\n",
       "      <th>OBJECTID_1</th>\n",
       "      <th>CrashHour</th>\n",
       "      <th>CrashID</th>\n",
       "      <th>CrashYear</th>\n",
       "      <th>Latitude</th>\n",
       "      <th>Longitude</th>\n",
       "      <th>NumUnits</th>\n",
       "      <th>OBJECTID</th>\n",
       "    </tr>\n",
       "  </thead>\n",
       "  <tbody>\n",
       "    <tr>\n",
       "      <th>count</th>\n",
       "      <td>12173.000000</td>\n",
       "      <td>12173.000000</td>\n",
       "      <td>12173.000000</td>\n",
       "      <td>12173.000000</td>\n",
       "      <td>1.217300e+04</td>\n",
       "      <td>12173.000000</td>\n",
       "      <td>12173.000000</td>\n",
       "      <td>12173.000000</td>\n",
       "      <td>12173.000000</td>\n",
       "      <td>12173.000000</td>\n",
       "    </tr>\n",
       "    <tr>\n",
       "      <th>mean</th>\n",
       "      <td>-79.270337</td>\n",
       "      <td>35.463281</td>\n",
       "      <td>6087.000000</td>\n",
       "      <td>14.553684</td>\n",
       "      <td>1.038795e+08</td>\n",
       "      <td>2012.958186</td>\n",
       "      <td>35.463281</td>\n",
       "      <td>-79.270337</td>\n",
       "      <td>2.022098</td>\n",
       "      <td>6087.000000</td>\n",
       "    </tr>\n",
       "    <tr>\n",
       "      <th>std</th>\n",
       "      <td>1.547147</td>\n",
       "      <td>0.572119</td>\n",
       "      <td>3514.186748</td>\n",
       "      <td>4.777227</td>\n",
       "      <td>1.200168e+06</td>\n",
       "      <td>3.760490</td>\n",
       "      <td>0.572119</td>\n",
       "      <td>1.547147</td>\n",
       "      <td>0.169343</td>\n",
       "      <td>3514.186748</td>\n",
       "    </tr>\n",
       "    <tr>\n",
       "      <th>min</th>\n",
       "      <td>-84.152986</td>\n",
       "      <td>33.869962</td>\n",
       "      <td>1.000000</td>\n",
       "      <td>0.000000</td>\n",
       "      <td>1.018783e+08</td>\n",
       "      <td>2007.000000</td>\n",
       "      <td>33.869962</td>\n",
       "      <td>-84.152986</td>\n",
       "      <td>1.000000</td>\n",
       "      <td>1.000000</td>\n",
       "    </tr>\n",
       "    <tr>\n",
       "      <th>25%</th>\n",
       "      <td>-80.698556</td>\n",
       "      <td>35.168494</td>\n",
       "      <td>3044.000000</td>\n",
       "      <td>11.000000</td>\n",
       "      <td>1.028646e+08</td>\n",
       "      <td>2010.000000</td>\n",
       "      <td>35.168494</td>\n",
       "      <td>-80.698556</td>\n",
       "      <td>2.000000</td>\n",
       "      <td>3044.000000</td>\n",
       "    </tr>\n",
       "    <tr>\n",
       "      <th>50%</th>\n",
       "      <td>-78.954742</td>\n",
       "      <td>35.588420</td>\n",
       "      <td>6087.000000</td>\n",
       "      <td>15.000000</td>\n",
       "      <td>1.037921e+08</td>\n",
       "      <td>2013.000000</td>\n",
       "      <td>35.588420</td>\n",
       "      <td>-78.954742</td>\n",
       "      <td>2.000000</td>\n",
       "      <td>6087.000000</td>\n",
       "    </tr>\n",
       "    <tr>\n",
       "      <th>75%</th>\n",
       "      <td>-78.014015</td>\n",
       "      <td>35.915684</td>\n",
       "      <td>9130.000000</td>\n",
       "      <td>18.000000</td>\n",
       "      <td>1.048866e+08</td>\n",
       "      <td>2016.000000</td>\n",
       "      <td>35.915684</td>\n",
       "      <td>-78.014015</td>\n",
       "      <td>2.000000</td>\n",
       "      <td>9130.000000</td>\n",
       "    </tr>\n",
       "    <tr>\n",
       "      <th>max</th>\n",
       "      <td>-75.463524</td>\n",
       "      <td>36.555054</td>\n",
       "      <td>12173.000000</td>\n",
       "      <td>23.000000</td>\n",
       "      <td>1.062079e+08</td>\n",
       "      <td>2019.000000</td>\n",
       "      <td>36.555054</td>\n",
       "      <td>-75.463524</td>\n",
       "      <td>7.000000</td>\n",
       "      <td>12173.000000</td>\n",
       "    </tr>\n",
       "  </tbody>\n",
       "</table>\n",
       "</div>"
      ],
      "text/plain": [
       "                  X             Y    OBJECTID_1     CrashHour       CrashID  \\\n",
       "count  12173.000000  12173.000000  12173.000000  12173.000000  1.217300e+04   \n",
       "mean     -79.270337     35.463281   6087.000000     14.553684  1.038795e+08   \n",
       "std        1.547147      0.572119   3514.186748      4.777227  1.200168e+06   \n",
       "min      -84.152986     33.869962      1.000000      0.000000  1.018783e+08   \n",
       "25%      -80.698556     35.168494   3044.000000     11.000000  1.028646e+08   \n",
       "50%      -78.954742     35.588420   6087.000000     15.000000  1.037921e+08   \n",
       "75%      -78.014015     35.915684   9130.000000     18.000000  1.048866e+08   \n",
       "max      -75.463524     36.555054  12173.000000     23.000000  1.062079e+08   \n",
       "\n",
       "          CrashYear      Latitude     Longitude      NumUnits      OBJECTID  \n",
       "count  12173.000000  12173.000000  12173.000000  12173.000000  12173.000000  \n",
       "mean    2012.958186     35.463281    -79.270337      2.022098   6087.000000  \n",
       "std        3.760490      0.572119      1.547147      0.169343   3514.186748  \n",
       "min     2007.000000     33.869962    -84.152986      1.000000      1.000000  \n",
       "25%     2010.000000     35.168494    -80.698556      2.000000   3044.000000  \n",
       "50%     2013.000000     35.588420    -78.954742      2.000000   6087.000000  \n",
       "75%     2016.000000     35.915684    -78.014015      2.000000   9130.000000  \n",
       "max     2019.000000     36.555054    -75.463524      7.000000  12173.000000  "
      ]
     },
     "execution_count": 7,
     "metadata": {},
     "output_type": "execute_result"
    }
   ],
   "source": [
    "bike_Pedestrain_crash_df.describe()"
   ]
  },
  {
   "cell_type": "code",
   "execution_count": 11,
   "id": "02d14364",
   "metadata": {},
   "outputs": [
    {
     "data": {
      "text/plain": [
       "Text(0.5, 1.0, 'Availability of Ambulance')"
      ]
     },
     "execution_count": 11,
     "metadata": {},
     "output_type": "execute_result"
    },
    {
     "data": {
      "image/png": "[encoded data removed]",
      "text/plain": [
       "<Figure size 640x480 with 1 Axes>"
      ]
     },
     "metadata": {},
     "output_type": "display_data"
    }
   ],
   "source": [
    "# Availability of ambulance at the sight of the accident\n",
    "bike_Pedestrain_crash_df['AmbulanceR'].value_counts().sort_index().plot.bar()\n",
    "plt.style.use('dark_background')\n",
    "plt.title(\"Availability of Ambulance\")\n"
   ]
  },
  {
   "cell_type": "code",
   "execution_count": 12,
   "id": "aa1543e4",
   "metadata": {},
   "outputs": [
    {
     "data": {
      "text/plain": [
       "Text(0.5, 1.0, 'Age group Analysis')"
      ]
     },
     "execution_count": 12,
     "metadata": {},
     "output_type": "execute_result"
    },
    {
     "data": {
      "image/png": "[encoded data removed]",
      "text/plain": [
       "<Figure size 640x480 with 1 Axes>"
      ]
     },
     "metadata": {},
     "output_type": "display_data"
    }
   ],
   "source": [
    "# Age Group wise Analysis\n",
    "bike_Pedestrain_crash_df['BikeAgeGrp'].value_counts().sort_index().plot.bar()\n",
    "plt.style.use('dark_background')\n",
    "plt.title(\"Age group Analysis\")"
   ]
  },
  {
   "cell_type": "code",
   "execution_count": 13,
   "id": "af6bdbb4",
   "metadata": {},
   "outputs": [
    {
     "data": {
      "text/plain": [
       "Text(0.5, 1.0, 'Injuries')"
      ]
     },
     "execution_count": 13,
     "metadata": {},
     "output_type": "execute_result"
    },
    {
     "data": {
      "image/png": "[encoded data removed]",
      "text/plain": [
       "<Figure size 640x480 with 1 Axes>"
      ]
     },
     "metadata": {},
     "output_type": "display_data"
    }
   ],
   "source": [
    "# Injuries due to Accidents\n",
    "bike_Pedestrain_crash_df['BikeInjury'].value_counts().sort_index().plot.bar()\n",
    "plt.style.use('dark_background')\n",
    "plt.title(\"Injuries\")\n"
   ]
  },
  {
   "cell_type": "code",
   "execution_count": 14,
   "id": "8c196213",
   "metadata": {},
   "outputs": [
    {
     "data": {
      "text/plain": [
       "Text(0.5, 1.0, 'Gender wise analysis')"
      ]
     },
     "execution_count": 14,
     "metadata": {},
     "output_type": "execute_result"
    },
    {
     "data": {
      "image/png": "[encoded data removed]",
      "text/plain": [
       "<Figure size 640x480 with 1 Axes>"
      ]
     },
     "metadata": {},
     "output_type": "display_data"
    }
   ],
   "source": [
    "# Gender wise Analysis\n",
    "bike_Pedestrain_crash_df['BikeSex'].value_counts().sort_index().plot.bar()\n",
    "plt.style.use('dark_background')\n",
    "plt.title(\"Gender wise analysis\")"
   ]
  },
  {
   "cell_type": "code",
   "execution_count": 15,
   "id": "3d456064",
   "metadata": {},
   "outputs": [
    {
     "data": {
      "text/plain": [
       "Text(0.5, 1.0, 'Day of Accident')"
      ]
     },
     "execution_count": 15,
     "metadata": {},
     "output_type": "execute_result"
    },
    {
     "data": {
      "image/png": "[encoded data removed]",
      "text/plain": [
       "<Figure size 640x480 with 1 Axes>"
      ]
     },
     "metadata": {},
     "output_type": "display_data"
    }
   ],
   "source": [
    "# Day wise crash analysis\n",
    "bike_Pedestrain_crash_df['CrashDay'].value_counts().sort_index().plot.bar()\n",
    "plt.style.use('dark_background')\n",
    "plt.title(\"Day of Accident\")"
   ]
  },
  {
   "cell_type": "code",
   "execution_count": null,
   "id": "4826836f",
   "metadata": {},
   "outputs": [],
   "source": []
  }
 ],
 "metadata": {
  "kernelspec": {
   "display_name": "mlenv",
   "language": "python",
   "name": "mlenv"
  },
  "language_info": {
   "codemirror_mode": {
    "name": "ipython",
    "version": 3
   },
   "file_extension": ".py",
   "mimetype": "text/x-python",
   "name": "python",
   "nbconvert_exporter": "python",
   "pygments_lexer": "ipython3",
   "version": "3.7.13"
  }
 },
 "nbformat": 4,
 "nbformat_minor": 5
}
